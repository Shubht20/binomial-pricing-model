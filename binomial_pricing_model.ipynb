{
  "nbformat": 4,
  "nbformat_minor": 0,
  "metadata": {
    "colab": {
      "provenance": []
    },
    "kernelspec": {
      "name": "python3",
      "display_name": "Python 3"
    },
    "language_info": {
      "name": "python"
    }
  },
  "cells": [
    {
      "cell_type": "code",
      "execution_count": 3,
      "metadata": {
        "colab": {
          "base_uri": "https://localhost:8080/"
        },
        "id": "LHI-lKyIu_vk",
        "outputId": "90d37487-8efb-49bd-c96a-ecc396ce9bbc"
      },
      "outputs": [
        {
          "output_type": "stream",
          "name": "stderr",
          "text": [
            "2025-05-17 19:37:03.490 WARNING streamlit.runtime.scriptrunner_utils.script_run_context: Thread 'MainThread': missing ScriptRunContext! This warning can be ignored when running in bare mode.\n",
            "2025-05-17 19:37:04.064 \n",
            "  \u001b[33m\u001b[1mWarning:\u001b[0m to view this Streamlit app on a browser, run it with the following\n",
            "  command:\n",
            "\n",
            "    streamlit run /usr/local/lib/python3.11/dist-packages/colab_kernel_launcher.py [ARGUMENTS]\n",
            "2025-05-17 19:37:04.067 Thread 'MainThread': missing ScriptRunContext! This warning can be ignored when running in bare mode.\n",
            "2025-05-17 19:37:04.072 Thread 'MainThread': missing ScriptRunContext! This warning can be ignored when running in bare mode.\n",
            "2025-05-17 19:37:04.074 Thread 'MainThread': missing ScriptRunContext! This warning can be ignored when running in bare mode.\n",
            "2025-05-17 19:37:04.078 Thread 'MainThread': missing ScriptRunContext! This warning can be ignored when running in bare mode.\n",
            "2025-05-17 19:37:04.083 Thread 'MainThread': missing ScriptRunContext! This warning can be ignored when running in bare mode.\n",
            "2025-05-17 19:37:04.087 Session state does not function when running a script without `streamlit run`\n",
            "2025-05-17 19:37:04.088 Thread 'MainThread': missing ScriptRunContext! This warning can be ignored when running in bare mode.\n",
            "2025-05-17 19:37:04.090 Thread 'MainThread': missing ScriptRunContext! This warning can be ignored when running in bare mode.\n",
            "2025-05-17 19:37:04.092 Thread 'MainThread': missing ScriptRunContext! This warning can be ignored when running in bare mode.\n",
            "2025-05-17 19:37:04.092 Thread 'MainThread': missing ScriptRunContext! This warning can be ignored when running in bare mode.\n",
            "2025-05-17 19:37:04.093 Thread 'MainThread': missing ScriptRunContext! This warning can be ignored when running in bare mode.\n",
            "2025-05-17 19:37:04.094 Thread 'MainThread': missing ScriptRunContext! This warning can be ignored when running in bare mode.\n",
            "2025-05-17 19:37:04.095 Thread 'MainThread': missing ScriptRunContext! This warning can be ignored when running in bare mode.\n",
            "2025-05-17 19:37:04.095 Thread 'MainThread': missing ScriptRunContext! This warning can be ignored when running in bare mode.\n",
            "2025-05-17 19:37:04.100 Thread 'MainThread': missing ScriptRunContext! This warning can be ignored when running in bare mode.\n",
            "2025-05-17 19:37:04.101 Thread 'MainThread': missing ScriptRunContext! This warning can be ignored when running in bare mode.\n",
            "2025-05-17 19:37:04.102 Thread 'MainThread': missing ScriptRunContext! This warning can be ignored when running in bare mode.\n",
            "2025-05-17 19:37:04.105 Thread 'MainThread': missing ScriptRunContext! This warning can be ignored when running in bare mode.\n",
            "2025-05-17 19:37:04.106 Thread 'MainThread': missing ScriptRunContext! This warning can be ignored when running in bare mode.\n",
            "2025-05-17 19:37:04.106 Thread 'MainThread': missing ScriptRunContext! This warning can be ignored when running in bare mode.\n",
            "2025-05-17 19:37:04.109 Thread 'MainThread': missing ScriptRunContext! This warning can be ignored when running in bare mode.\n",
            "2025-05-17 19:37:04.110 Thread 'MainThread': missing ScriptRunContext! This warning can be ignored when running in bare mode.\n",
            "2025-05-17 19:37:04.111 Thread 'MainThread': missing ScriptRunContext! This warning can be ignored when running in bare mode.\n",
            "2025-05-17 19:37:04.115 Thread 'MainThread': missing ScriptRunContext! This warning can be ignored when running in bare mode.\n",
            "2025-05-17 19:37:04.116 Thread 'MainThread': missing ScriptRunContext! This warning can be ignored when running in bare mode.\n",
            "2025-05-17 19:37:04.119 Thread 'MainThread': missing ScriptRunContext! This warning can be ignored when running in bare mode.\n",
            "2025-05-17 19:37:04.120 Thread 'MainThread': missing ScriptRunContext! This warning can be ignored when running in bare mode.\n",
            "2025-05-17 19:37:04.121 Thread 'MainThread': missing ScriptRunContext! This warning can be ignored when running in bare mode.\n",
            "2025-05-17 19:37:04.122 Thread 'MainThread': missing ScriptRunContext! This warning can be ignored when running in bare mode.\n",
            "2025-05-17 19:37:04.124 Thread 'MainThread': missing ScriptRunContext! This warning can be ignored when running in bare mode.\n",
            "2025-05-17 19:37:04.125 Thread 'MainThread': missing ScriptRunContext! This warning can be ignored when running in bare mode.\n",
            "2025-05-17 19:37:04.126 Thread 'MainThread': missing ScriptRunContext! This warning can be ignored when running in bare mode.\n",
            "2025-05-17 19:37:04.127 Thread 'MainThread': missing ScriptRunContext! This warning can be ignored when running in bare mode.\n",
            "2025-05-17 19:37:04.129 Thread 'MainThread': missing ScriptRunContext! This warning can be ignored when running in bare mode.\n",
            "2025-05-17 19:37:04.130 Thread 'MainThread': missing ScriptRunContext! This warning can be ignored when running in bare mode.\n",
            "2025-05-17 19:37:04.131 Thread 'MainThread': missing ScriptRunContext! This warning can be ignored when running in bare mode.\n",
            "2025-05-17 19:37:04.132 Thread 'MainThread': missing ScriptRunContext! This warning can be ignored when running in bare mode.\n",
            "2025-05-17 19:37:04.136 Thread 'MainThread': missing ScriptRunContext! This warning can be ignored when running in bare mode.\n",
            "2025-05-17 19:37:04.136 Thread 'MainThread': missing ScriptRunContext! This warning can be ignored when running in bare mode.\n",
            "2025-05-17 19:37:04.140 Thread 'MainThread': missing ScriptRunContext! This warning can be ignored when running in bare mode.\n",
            "2025-05-17 19:37:04.140 Thread 'MainThread': missing ScriptRunContext! This warning can be ignored when running in bare mode.\n",
            "2025-05-17 19:37:04.144 Thread 'MainThread': missing ScriptRunContext! This warning can be ignored when running in bare mode.\n",
            "2025-05-17 19:37:04.144 Thread 'MainThread': missing ScriptRunContext! This warning can be ignored when running in bare mode.\n",
            "2025-05-17 19:37:04.145 Thread 'MainThread': missing ScriptRunContext! This warning can be ignored when running in bare mode.\n",
            "2025-05-17 19:37:04.147 Thread 'MainThread': missing ScriptRunContext! This warning can be ignored when running in bare mode.\n",
            "2025-05-17 19:37:04.148 Thread 'MainThread': missing ScriptRunContext! This warning can be ignored when running in bare mode.\n",
            "2025-05-17 19:37:04.149 Thread 'MainThread': missing ScriptRunContext! This warning can be ignored when running in bare mode.\n",
            "2025-05-17 19:37:04.152 Thread 'MainThread': missing ScriptRunContext! This warning can be ignored when running in bare mode.\n",
            "2025-05-17 19:37:04.153 Thread 'MainThread': missing ScriptRunContext! This warning can be ignored when running in bare mode.\n",
            "2025-05-17 19:37:04.155 Thread 'MainThread': missing ScriptRunContext! This warning can be ignored when running in bare mode.\n",
            "2025-05-17 19:37:04.159 Thread 'MainThread': missing ScriptRunContext! This warning can be ignored when running in bare mode.\n",
            "2025-05-17 19:37:04.160 Thread 'MainThread': missing ScriptRunContext! This warning can be ignored when running in bare mode.\n",
            "2025-05-17 19:37:04.161 Thread 'MainThread': missing ScriptRunContext! This warning can be ignored when running in bare mode.\n"
          ]
        },
        {
          "output_type": "execute_result",
          "data": {
            "text/plain": [
              "DeltaGenerator()"
            ]
          },
          "metadata": {},
          "execution_count": 3
        }
      ],
      "source": [
        "import streamlit as st\n",
        "import numpy as np\n",
        "\n",
        "st.title(\"Binomial Option Pricing Model\")\n",
        "\n",
        "# User Inputs\n",
        "S = st.number_input(\"Spot Price (S)\", value=100.0)\n",
        "K = st.number_input(\"Strike Price (K)\", value=100.0)\n",
        "T = st.number_input(\"Time to Maturity (T, in years)\", value=1.0)\n",
        "r = st.number_input(\"Risk-Free Rate (r, annualized)\", value=0.05)\n",
        "sigma = st.number_input(\"Volatility (σ)\", value=0.2)\n",
        "N = st.slider(\"Number of Steps (N)\", min_value=1, max_value=200, value=3)\n",
        "option_type = st.selectbox(\"Option Type\", (\"Call\", \"Put\"))\n",
        "style = st.selectbox(\"Style\", (\"European\", \"American\"))\n",
        "\n",
        "# Calculations\n",
        "dt = T / N\n",
        "u = np.exp(sigma * np.sqrt(dt))\n",
        "d = 1 / u\n",
        "p = (np.exp(r * dt) - d) / (u - d)\n",
        "discount = np.exp(-r * dt)\n",
        "\n",
        "# Build asset price tree\n",
        "asset_prices = np.zeros((N+1, N+1))\n",
        "asset_prices[0, 0] = S\n",
        "for i in range(1, N+1):\n",
        "    asset_prices[i, 0] = asset_prices[i-1, 0] * u\n",
        "    for j in range(1, i+1):\n",
        "        asset_prices[i, j] = asset_prices[i-1, j-1] * d\n",
        "\n",
        "# Build option value tree\n",
        "option_values = np.zeros_like(asset_prices)\n",
        "for j in range(N+1):\n",
        "    if option_type == \"Call\":\n",
        "        option_values[N, j] = max(0, asset_prices[N, j] - K)\n",
        "    else:\n",
        "        option_values[N, j] = max(0, K - asset_prices[N, j])\n",
        "\n",
        "# Backward induction\n",
        "for i in range(N-1, -1, -1):\n",
        "    for j in range(i+1):\n",
        "        hold = discount * (p * option_values[i+1, j] + (1 - p) * option_values[i+1, j+1])\n",
        "        if style == \"American\":\n",
        "            if option_type == \"Call\":\n",
        "                exercise = max(0, asset_prices[i, j] - K)\n",
        "            else:\n",
        "                exercise = max(0, K - asset_prices[i, j])\n",
        "            option_values[i, j] = max(hold, exercise)\n",
        "        else:\n",
        "            option_values[i, j] = hold\n",
        "\n",
        "st.subheader(\"Option Price\")\n",
        "st.success(f\"{option_values[0,0]:.4f}\")\n"
      ]
    },
    {
      "cell_type": "code",
      "source": [
        "import numpy as np\n",
        "\n",
        "def binomial_option_pricing(S, K, T, r, sigma, N, option_type='call', style='european'):\n",
        "    dt = T / N\n",
        "    u = np.exp(sigma * np.sqrt(dt))\n",
        "    d = 1 / u\n",
        "    p = (np.exp(r * dt) - d) / (u - d)\n",
        "    discount = np.exp(-r * dt)\n",
        "\n",
        "    # Asset Price Tree\n",
        "    asset_prices = np.zeros((N + 1, N + 1))\n",
        "    asset_prices[0, 0] = S\n",
        "    for i in range(1, N + 1):\n",
        "        asset_prices[i, 0] = asset_prices[i - 1, 0] * u\n",
        "        for j in range(1, i + 1):\n",
        "            asset_prices[i, j] = asset_prices[i - 1, j - 1] * d\n",
        "\n",
        "    # Option Value Tree\n",
        "    option_values = np.zeros_like(asset_prices)\n",
        "    for j in range(N + 1):\n",
        "        if option_type == 'call':\n",
        "            option_values[N, j] = max(0, asset_prices[N, j] - K)\n",
        "        else:\n",
        "            option_values[N, j] = max(0, K - asset_prices[N, j])\n",
        "\n",
        "    for i in range(N - 1, -1, -1):\n",
        "        for j in range(i + 1):\n",
        "            hold = discount * (p * option_values[i + 1, j] + (1 - p) * option_values[i + 1, j + 1])\n",
        "            if style == 'american':\n",
        "                if option_type == 'call':\n",
        "                    exercise = max(0, asset_prices[i, j] - K)\n",
        "                else:\n",
        "                    exercise = max(0, K - asset_prices[i, j])\n",
        "                option_values[i, j] = max(hold, exercise)\n",
        "            else:\n",
        "                option_values[i, j] = hold\n",
        "\n",
        "    return option_values[0, 0]\n"
      ],
      "metadata": {
        "id": "vMAh5q9mxYaI"
      },
      "execution_count": 4,
      "outputs": []
    },
    {
      "cell_type": "code",
      "source": [
        "price = binomial_option_pricing(\n",
        "    S=140,       # Spot price\n",
        "    K=80,       # Strike price\n",
        "    T=1/9,         # Time to maturity (in years)\n",
        "    r=0.065,      # Risk-free interest rate\n",
        "    sigma=0.68,   # Volatility\n",
        "    N=6,         # Number of steps in the binomial tree\n",
        "    option_type='call',    # 'call' or 'put'\n",
        "    style='american'       # 'european' or 'american'\n",
        ")\n",
        "\n",
        "print(\"Option Price:\", round(price, 4))\n"
      ],
      "metadata": {
        "colab": {
          "base_uri": "https://localhost:8080/"
        },
        "id": "KI7q7IeexsY6",
        "outputId": "673b23dd-2ba9-4100-9447-f92f8b32fb25"
      },
      "execution_count": 9,
      "outputs": [
        {
          "output_type": "stream",
          "name": "stdout",
          "text": [
            "Option Price: 60.5757\n"
          ]
        }
      ]
    },
    {
      "cell_type": "code",
      "source": [
        "%%writefile binomial_app.py\n",
        "import streamlit as st\n",
        "import numpy as np\n",
        "import pandas as pd\n",
        "\n",
        "st.title(\"📈 Binomial Option Pricing Calculator\")\n",
        "\n",
        "# Inputs\n",
        "S = st.number_input(\"Spot Price (S)\", value=100.0)\n",
        "K = st.number_input(\"Strike Price (K)\", value=100.0)\n",
        "T = st.number_input(\"Time to Maturity (T, in years)\", value=1.0)\n",
        "r = st.number_input(\"Risk-Free Interest Rate (r)\", value=0.05)\n",
        "sigma = st.number_input(\"Volatility (σ)\", value=0.2)\n",
        "N = st.slider(\"Number of Steps (N)\", min_value=1, max_value=100, value=3)\n",
        "option_type = st.selectbox(\"Option Type\", (\"call\", \"put\"))\n",
        "style = st.selectbox(\"Option Style\", (\"european\", \"american\"))\n",
        "\n",
        "# Binomial Pricing Logic\n",
        "def binomial_option_pricing(S, K, T, r, sigma, N, option_type='call', style='european'):\n",
        "    dt = T / N\n",
        "    u = np.exp(sigma * np.sqrt(dt))\n",
        "    d = 1 / u\n",
        "    p = (np.exp(r * dt) - d) / (u - d)\n",
        "    discount = np.exp(-r * dt)\n",
        "\n",
        "    # Asset Price Tree\n",
        "    asset_prices = np.zeros((N + 1, N + 1))\n",
        "    asset_prices[0, 0] = S\n",
        "    for i in range(1, N + 1):\n",
        "        asset_prices[i, 0] = asset_prices[i - 1, 0] * u\n",
        "        for j in range(1, i + 1):\n",
        "            asset_prices[i, j] = asset_prices[i - 1, j - 1] * d\n",
        "\n",
        "    # Option Value Tree\n",
        "    option_values = np.zeros_like(asset_prices)\n",
        "    for j in range(N + 1):\n",
        "        if option_type == 'call':\n",
        "            option_values[N, j] = max(0, asset_prices[N, j] - K)\n",
        "        else:\n",
        "            option_values[N, j] = max(0, K - asset_prices[N, j])\n",
        "\n",
        "    for i in range(N - 1, -1, -1):\n",
        "        for j in range(i + 1):\n",
        "            hold = discount * (p * option_values[i + 1, j] + (1 - p) * option_values[i + 1, j + 1])\n",
        "            if style == 'american':\n",
        "                if option_type == 'call':\n",
        "                    exercise = max(0, asset_prices[i, j] - K)\n",
        "                else:\n",
        "                    exercise = max(0, K - asset_prices[i, j])\n",
        "                option_values[i, j] = max(hold, exercise)\n",
        "            else:\n",
        "                option_values[i, j] = hold\n",
        "\n",
        "    return option_values[0, 0], asset_prices, option_values\n",
        "\n",
        "# Calculate and Display\n",
        "price, asset_tree, option_tree = binomial_option_pricing(S, K, T, r, sigma, N, option_type, style)\n",
        "st.subheader(f\"📌 Option Price: `{price:.4f}`\")\n",
        "\n",
        "# Display Trees as Tables\n",
        "asset_df = pd.DataFrame('', index=range(N+1), columns=range(N+1))\n",
        "opt_df = pd.DataFrame('', index=range(N+1), columns=range(N+1))\n",
        "\n",
        "for i in range(N+1):\n",
        "    for j in range(i+1):\n",
        "        asset_df.iloc[i, j] = f\"{asset_tree[i, j]:.2f}\"\n",
        "        opt_df.iloc[i, j] = f\"{option_tree[i, j]:.2f}\"\n",
        "\n",
        "st.write(\"📊 Asset Price Tree\")\n",
        "st.dataframe(asset_df)\n",
        "\n",
        "st.write(f\"📊 Option Value Tree ({style.title()} {option_type.title()})\")\n",
        "st.dataframe(opt_df)\n"
      ],
      "metadata": {
        "colab": {
          "base_uri": "https://localhost:8080/"
        },
        "id": "m6-9-6DgzMft",
        "outputId": "6135fc91-672c-47d4-910b-a1d31e1afd45"
      },
      "execution_count": 13,
      "outputs": [
        {
          "output_type": "stream",
          "name": "stdout",
          "text": [
            "Writing binomial_app.py\n"
          ]
        }
      ]
    },
    {
      "cell_type": "code",
      "source": [
        "from google.colab import files\n",
        "files.download('binomial_app.py')\n",
        "\n"
      ],
      "metadata": {
        "colab": {
          "base_uri": "https://localhost:8080/",
          "height": 17
        },
        "id": "HBVm045rzYUA",
        "outputId": "11264fe3-d450-4c16-fa50-331a58b06b81"
      },
      "execution_count": 15,
      "outputs": [
        {
          "output_type": "display_data",
          "data": {
            "text/plain": [
              "<IPython.core.display.Javascript object>"
            ],
            "application/javascript": [
              "\n",
              "    async function download(id, filename, size) {\n",
              "      if (!google.colab.kernel.accessAllowed) {\n",
              "        return;\n",
              "      }\n",
              "      const div = document.createElement('div');\n",
              "      const label = document.createElement('label');\n",
              "      label.textContent = `Downloading \"${filename}\": `;\n",
              "      div.appendChild(label);\n",
              "      const progress = document.createElement('progress');\n",
              "      progress.max = size;\n",
              "      div.appendChild(progress);\n",
              "      document.body.appendChild(div);\n",
              "\n",
              "      const buffers = [];\n",
              "      let downloaded = 0;\n",
              "\n",
              "      const channel = await google.colab.kernel.comms.open(id);\n",
              "      // Send a message to notify the kernel that we're ready.\n",
              "      channel.send({})\n",
              "\n",
              "      for await (const message of channel.messages) {\n",
              "        // Send a message to notify the kernel that we're ready.\n",
              "        channel.send({})\n",
              "        if (message.buffers) {\n",
              "          for (const buffer of message.buffers) {\n",
              "            buffers.push(buffer);\n",
              "            downloaded += buffer.byteLength;\n",
              "            progress.value = downloaded;\n",
              "          }\n",
              "        }\n",
              "      }\n",
              "      const blob = new Blob(buffers, {type: 'application/binary'});\n",
              "      const a = document.createElement('a');\n",
              "      a.href = window.URL.createObjectURL(blob);\n",
              "      a.download = filename;\n",
              "      div.appendChild(a);\n",
              "      a.click();\n",
              "      div.remove();\n",
              "    }\n",
              "  "
            ]
          },
          "metadata": {}
        },
        {
          "output_type": "display_data",
          "data": {
            "text/plain": [
              "<IPython.core.display.Javascript object>"
            ],
            "application/javascript": [
              "download(\"download_96e519bf-7d07-4497-b2c5-55b2e51e6d36\", \"binomial_app.py\", 2630)"
            ]
          },
          "metadata": {}
        }
      ]
    },
    {
      "cell_type": "code",
      "source": [
        "!pip install streamlit"
      ],
      "metadata": {
        "colab": {
          "base_uri": "https://localhost:8080/"
        },
        "id": "4fsK5874vbQB",
        "outputId": "d851f96a-f970-41f6-faa9-85f40b4362a5"
      },
      "execution_count": 2,
      "outputs": [
        {
          "output_type": "stream",
          "name": "stdout",
          "text": [
            "Collecting streamlit\n",
            "  Downloading streamlit-1.45.1-py3-none-any.whl.metadata (8.9 kB)\n",
            "Requirement already satisfied: altair<6,>=4.0 in /usr/local/lib/python3.11/dist-packages (from streamlit) (5.5.0)\n",
            "Requirement already satisfied: blinker<2,>=1.5.0 in /usr/local/lib/python3.11/dist-packages (from streamlit) (1.9.0)\n",
            "Requirement already satisfied: cachetools<6,>=4.0 in /usr/local/lib/python3.11/dist-packages (from streamlit) (5.5.2)\n",
            "Requirement already satisfied: click<9,>=7.0 in /usr/local/lib/python3.11/dist-packages (from streamlit) (8.2.0)\n",
            "Requirement already satisfied: numpy<3,>=1.23 in /usr/local/lib/python3.11/dist-packages (from streamlit) (2.0.2)\n",
            "Requirement already satisfied: packaging<25,>=20 in /usr/local/lib/python3.11/dist-packages (from streamlit) (24.2)\n",
            "Requirement already satisfied: pandas<3,>=1.4.0 in /usr/local/lib/python3.11/dist-packages (from streamlit) (2.2.2)\n",
            "Requirement already satisfied: pillow<12,>=7.1.0 in /usr/local/lib/python3.11/dist-packages (from streamlit) (11.2.1)\n",
            "Requirement already satisfied: protobuf<7,>=3.20 in /usr/local/lib/python3.11/dist-packages (from streamlit) (5.29.4)\n",
            "Requirement already satisfied: pyarrow>=7.0 in /usr/local/lib/python3.11/dist-packages (from streamlit) (18.1.0)\n",
            "Requirement already satisfied: requests<3,>=2.27 in /usr/local/lib/python3.11/dist-packages (from streamlit) (2.32.3)\n",
            "Requirement already satisfied: tenacity<10,>=8.1.0 in /usr/local/lib/python3.11/dist-packages (from streamlit) (9.1.2)\n",
            "Requirement already satisfied: toml<2,>=0.10.1 in /usr/local/lib/python3.11/dist-packages (from streamlit) (0.10.2)\n",
            "Requirement already satisfied: typing-extensions<5,>=4.4.0 in /usr/local/lib/python3.11/dist-packages (from streamlit) (4.13.2)\n",
            "Collecting watchdog<7,>=2.1.5 (from streamlit)\n",
            "  Downloading watchdog-6.0.0-py3-none-manylinux2014_x86_64.whl.metadata (44 kB)\n",
            "\u001b[2K     \u001b[90m━━━━━━━━━━━━━━━━━━━━━━━━━━━━━━━━━━━━━━━━\u001b[0m \u001b[32m44.3/44.3 kB\u001b[0m \u001b[31m2.1 MB/s\u001b[0m eta \u001b[36m0:00:00\u001b[0m\n",
            "\u001b[?25hRequirement already satisfied: gitpython!=3.1.19,<4,>=3.0.7 in /usr/local/lib/python3.11/dist-packages (from streamlit) (3.1.44)\n",
            "Collecting pydeck<1,>=0.8.0b4 (from streamlit)\n",
            "  Downloading pydeck-0.9.1-py2.py3-none-any.whl.metadata (4.1 kB)\n",
            "Requirement already satisfied: tornado<7,>=6.0.3 in /usr/local/lib/python3.11/dist-packages (from streamlit) (6.4.2)\n",
            "Requirement already satisfied: jinja2 in /usr/local/lib/python3.11/dist-packages (from altair<6,>=4.0->streamlit) (3.1.6)\n",
            "Requirement already satisfied: jsonschema>=3.0 in /usr/local/lib/python3.11/dist-packages (from altair<6,>=4.0->streamlit) (4.23.0)\n",
            "Requirement already satisfied: narwhals>=1.14.2 in /usr/local/lib/python3.11/dist-packages (from altair<6,>=4.0->streamlit) (1.39.0)\n",
            "Requirement already satisfied: gitdb<5,>=4.0.1 in /usr/local/lib/python3.11/dist-packages (from gitpython!=3.1.19,<4,>=3.0.7->streamlit) (4.0.12)\n",
            "Requirement already satisfied: python-dateutil>=2.8.2 in /usr/local/lib/python3.11/dist-packages (from pandas<3,>=1.4.0->streamlit) (2.9.0.post0)\n",
            "Requirement already satisfied: pytz>=2020.1 in /usr/local/lib/python3.11/dist-packages (from pandas<3,>=1.4.0->streamlit) (2025.2)\n",
            "Requirement already satisfied: tzdata>=2022.7 in /usr/local/lib/python3.11/dist-packages (from pandas<3,>=1.4.0->streamlit) (2025.2)\n",
            "Requirement already satisfied: charset-normalizer<4,>=2 in /usr/local/lib/python3.11/dist-packages (from requests<3,>=2.27->streamlit) (3.4.2)\n",
            "Requirement already satisfied: idna<4,>=2.5 in /usr/local/lib/python3.11/dist-packages (from requests<3,>=2.27->streamlit) (3.10)\n",
            "Requirement already satisfied: urllib3<3,>=1.21.1 in /usr/local/lib/python3.11/dist-packages (from requests<3,>=2.27->streamlit) (2.4.0)\n",
            "Requirement already satisfied: certifi>=2017.4.17 in /usr/local/lib/python3.11/dist-packages (from requests<3,>=2.27->streamlit) (2025.4.26)\n",
            "Requirement already satisfied: smmap<6,>=3.0.1 in /usr/local/lib/python3.11/dist-packages (from gitdb<5,>=4.0.1->gitpython!=3.1.19,<4,>=3.0.7->streamlit) (5.0.2)\n",
            "Requirement already satisfied: MarkupSafe>=2.0 in /usr/local/lib/python3.11/dist-packages (from jinja2->altair<6,>=4.0->streamlit) (3.0.2)\n",
            "Requirement already satisfied: attrs>=22.2.0 in /usr/local/lib/python3.11/dist-packages (from jsonschema>=3.0->altair<6,>=4.0->streamlit) (25.3.0)\n",
            "Requirement already satisfied: jsonschema-specifications>=2023.03.6 in /usr/local/lib/python3.11/dist-packages (from jsonschema>=3.0->altair<6,>=4.0->streamlit) (2025.4.1)\n",
            "Requirement already satisfied: referencing>=0.28.4 in /usr/local/lib/python3.11/dist-packages (from jsonschema>=3.0->altair<6,>=4.0->streamlit) (0.36.2)\n",
            "Requirement already satisfied: rpds-py>=0.7.1 in /usr/local/lib/python3.11/dist-packages (from jsonschema>=3.0->altair<6,>=4.0->streamlit) (0.24.0)\n",
            "Requirement already satisfied: six>=1.5 in /usr/local/lib/python3.11/dist-packages (from python-dateutil>=2.8.2->pandas<3,>=1.4.0->streamlit) (1.17.0)\n",
            "Downloading streamlit-1.45.1-py3-none-any.whl (9.9 MB)\n",
            "\u001b[2K   \u001b[90m━━━━━━━━━━━━━━━━━━━━━━━━━━━━━━━━━━━━━━━━\u001b[0m \u001b[32m9.9/9.9 MB\u001b[0m \u001b[31m59.3 MB/s\u001b[0m eta \u001b[36m0:00:00\u001b[0m\n",
            "\u001b[?25hDownloading pydeck-0.9.1-py2.py3-none-any.whl (6.9 MB)\n",
            "\u001b[2K   \u001b[90m━━━━━━━━━━━━━━━━━━━━━━━━━━━━━━━━━━━━━━━━\u001b[0m \u001b[32m6.9/6.9 MB\u001b[0m \u001b[31m97.3 MB/s\u001b[0m eta \u001b[36m0:00:00\u001b[0m\n",
            "\u001b[?25hDownloading watchdog-6.0.0-py3-none-manylinux2014_x86_64.whl (79 kB)\n",
            "\u001b[2K   \u001b[90m━━━━━━━━━━━━━━━━━━━━━━━━━━━━━━━━━━━━━━━━\u001b[0m \u001b[32m79.1/79.1 kB\u001b[0m \u001b[31m5.4 MB/s\u001b[0m eta \u001b[36m0:00:00\u001b[0m\n",
            "\u001b[?25hInstalling collected packages: watchdog, pydeck, streamlit\n",
            "Successfully installed pydeck-0.9.1 streamlit-1.45.1 watchdog-6.0.0\n"
          ]
        }
      ]
    }
  ]
}